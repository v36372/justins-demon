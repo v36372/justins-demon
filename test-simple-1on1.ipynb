{
 "cells": [
  {
   "cell_type": "code",
   "execution_count": 1,
   "metadata": {},
   "outputs": [],
   "source": [
    "from sklearn.ensemble import RandomForestClassifier\n",
    "import pandas as pd\n",
    "import numpy as np\n"
   ]
  },
  {
   "cell_type": "code",
   "execution_count": 2,
   "metadata": {},
   "outputs": [],
   "source": [
    "df = pd.read_csv(\"data.csv\") "
   ]
  },
  {
   "cell_type": "code",
   "execution_count": 3,
   "metadata": {},
   "outputs": [
    {
     "data": {
      "text/html": [
       "<div>\n",
       "<style scoped>\n",
       "    .dataframe tbody tr th:only-of-type {\n",
       "        vertical-align: middle;\n",
       "    }\n",
       "\n",
       "    .dataframe tbody tr th {\n",
       "        vertical-align: top;\n",
       "    }\n",
       "\n",
       "    .dataframe thead th {\n",
       "        text-align: right;\n",
       "    }\n",
       "</style>\n",
       "<table border=\"1\" class=\"dataframe\">\n",
       "  <thead>\n",
       "    <tr style=\"text-align: right;\">\n",
       "      <th></th>\n",
       "      <th>a_qualifier</th>\n",
       "      <th>b_qualifier</th>\n",
       "      <th>event_name</th>\n",
       "      <th>event_id</th>\n",
       "      <th>event_slug</th>\n",
       "      <th>no_teams</th>\n",
       "      <th>prize</th>\n",
       "      <th>is_qualifier</th>\n",
       "      <th>type</th>\n",
       "      <th>country</th>\n",
       "      <th>...</th>\n",
       "      <th>at</th>\n",
       "      <th>bct</th>\n",
       "      <th>act</th>\n",
       "      <th>bt</th>\n",
       "      <th>ar</th>\n",
       "      <th>br</th>\n",
       "      <th>afk</th>\n",
       "      <th>bfk</th>\n",
       "      <th>acw</th>\n",
       "      <th>bcw</th>\n",
       "    </tr>\n",
       "  </thead>\n",
       "  <tbody>\n",
       "    <tr>\n",
       "      <th>0</th>\n",
       "      <td>False</td>\n",
       "      <td>False</td>\n",
       "      <td>EMF CS:GO World Invitational 2019</td>\n",
       "      <td>4730.0</td>\n",
       "      <td>emf-csgo-world-invitational-2019</td>\n",
       "      <td>2.0</td>\n",
       "      <td>64100.0</td>\n",
       "      <td>False</td>\n",
       "      <td>Intl. LAN</td>\n",
       "      <td>Hong Kong</td>\n",
       "      <td>...</td>\n",
       "      <td>7.0</td>\n",
       "      <td>0.0</td>\n",
       "      <td>9.0</td>\n",
       "      <td>6.0</td>\n",
       "      <td>1.42</td>\n",
       "      <td>0.68</td>\n",
       "      <td>15.0</td>\n",
       "      <td>7.0</td>\n",
       "      <td>2.0</td>\n",
       "      <td>0.0</td>\n",
       "    </tr>\n",
       "    <tr>\n",
       "      <th>1</th>\n",
       "      <td>False</td>\n",
       "      <td>False</td>\n",
       "      <td>EMF CS:GO World Invitational 2019</td>\n",
       "      <td>4730.0</td>\n",
       "      <td>emf-csgo-world-invitational-2019</td>\n",
       "      <td>2.0</td>\n",
       "      <td>64100.0</td>\n",
       "      <td>False</td>\n",
       "      <td>Intl. LAN</td>\n",
       "      <td>Hong Kong</td>\n",
       "      <td>...</td>\n",
       "      <td>5.0</td>\n",
       "      <td>7.0</td>\n",
       "      <td>6.0</td>\n",
       "      <td>9.0</td>\n",
       "      <td>0.87</td>\n",
       "      <td>1.22</td>\n",
       "      <td>14.0</td>\n",
       "      <td>13.0</td>\n",
       "      <td>1.0</td>\n",
       "      <td>3.0</td>\n",
       "    </tr>\n",
       "    <tr>\n",
       "      <th>2</th>\n",
       "      <td>False</td>\n",
       "      <td>False</td>\n",
       "      <td>EMF CS:GO World Invitational 2019</td>\n",
       "      <td>4730.0</td>\n",
       "      <td>emf-csgo-world-invitational-2019</td>\n",
       "      <td>2.0</td>\n",
       "      <td>64100.0</td>\n",
       "      <td>False</td>\n",
       "      <td>Intl. LAN</td>\n",
       "      <td>Hong Kong</td>\n",
       "      <td>...</td>\n",
       "      <td>6.0</td>\n",
       "      <td>9.0</td>\n",
       "      <td>3.0</td>\n",
       "      <td>7.0</td>\n",
       "      <td>1.01</td>\n",
       "      <td>1.18</td>\n",
       "      <td>9.0</td>\n",
       "      <td>16.0</td>\n",
       "      <td>2.0</td>\n",
       "      <td>3.0</td>\n",
       "    </tr>\n",
       "    <tr>\n",
       "      <th>3</th>\n",
       "      <td>False</td>\n",
       "      <td>False</td>\n",
       "      <td>EMF CS:GO World Invitational 2019</td>\n",
       "      <td>4730.0</td>\n",
       "      <td>emf-csgo-world-invitational-2019</td>\n",
       "      <td>2.0</td>\n",
       "      <td>64100.0</td>\n",
       "      <td>False</td>\n",
       "      <td>Intl. LAN</td>\n",
       "      <td>Hong Kong</td>\n",
       "      <td>...</td>\n",
       "      <td>2.0</td>\n",
       "      <td>9.0</td>\n",
       "      <td>8.0</td>\n",
       "      <td>7.0</td>\n",
       "      <td>0.82</td>\n",
       "      <td>1.26</td>\n",
       "      <td>7.0</td>\n",
       "      <td>19.0</td>\n",
       "      <td>1.0</td>\n",
       "      <td>0.0</td>\n",
       "    </tr>\n",
       "    <tr>\n",
       "      <th>4</th>\n",
       "      <td>False</td>\n",
       "      <td>False</td>\n",
       "      <td>IEM Chicago 2019</td>\n",
       "      <td>4574.0</td>\n",
       "      <td>iem-chicago-2019</td>\n",
       "      <td>8.0</td>\n",
       "      <td>250000.0</td>\n",
       "      <td>False</td>\n",
       "      <td>Intl. LAN</td>\n",
       "      <td>United States</td>\n",
       "      <td>...</td>\n",
       "      <td>1.0</td>\n",
       "      <td>2.0</td>\n",
       "      <td>1.0</td>\n",
       "      <td>14.0</td>\n",
       "      <td>0.62</td>\n",
       "      <td>1.64</td>\n",
       "      <td>8.0</td>\n",
       "      <td>10.0</td>\n",
       "      <td>0.0</td>\n",
       "      <td>3.0</td>\n",
       "    </tr>\n",
       "  </tbody>\n",
       "</table>\n",
       "<p>5 rows × 36 columns</p>\n",
       "</div>"
      ],
      "text/plain": [
       "   a_qualifier  b_qualifier                         event_name  event_id  \\\n",
       "0        False        False  EMF CS:GO World Invitational 2019    4730.0   \n",
       "1        False        False  EMF CS:GO World Invitational 2019    4730.0   \n",
       "2        False        False  EMF CS:GO World Invitational 2019    4730.0   \n",
       "3        False        False  EMF CS:GO World Invitational 2019    4730.0   \n",
       "4        False        False                   IEM Chicago 2019    4574.0   \n",
       "\n",
       "                         event_slug  no_teams     prize is_qualifier  \\\n",
       "0  emf-csgo-world-invitational-2019       2.0   64100.0        False   \n",
       "1  emf-csgo-world-invitational-2019       2.0   64100.0        False   \n",
       "2  emf-csgo-world-invitational-2019       2.0   64100.0        False   \n",
       "3  emf-csgo-world-invitational-2019       2.0   64100.0        False   \n",
       "4                  iem-chicago-2019       8.0  250000.0        False   \n",
       "\n",
       "        type        country ...    at  bct  act    bt    ar    br   afk   bfk  \\\n",
       "0  Intl. LAN      Hong Kong ...   7.0  0.0  9.0   6.0  1.42  0.68  15.0   7.0   \n",
       "1  Intl. LAN      Hong Kong ...   5.0  7.0  6.0   9.0  0.87  1.22  14.0  13.0   \n",
       "2  Intl. LAN      Hong Kong ...   6.0  9.0  3.0   7.0  1.01  1.18   9.0  16.0   \n",
       "3  Intl. LAN      Hong Kong ...   2.0  9.0  8.0   7.0  0.82  1.26   7.0  19.0   \n",
       "4  Intl. LAN  United States ...   1.0  2.0  1.0  14.0  0.62  1.64   8.0  10.0   \n",
       "\n",
       "   acw  bcw  \n",
       "0  2.0  0.0  \n",
       "1  1.0  3.0  \n",
       "2  2.0  3.0  \n",
       "3  1.0  0.0  \n",
       "4  0.0  3.0  \n",
       "\n",
       "[5 rows x 36 columns]"
      ]
     },
     "execution_count": 3,
     "metadata": {},
     "output_type": "execute_result"
    }
   ],
   "source": [
    "df.head()"
   ]
  },
  {
   "cell_type": "code",
   "execution_count": null,
   "metadata": {
    "scrolled": false
   },
   "outputs": [],
   "source": [
    "df.drop(columns=['event_name','event_slug','from','to','matchid','seriesid','eventid','url',\"event_id\",'seriestype','country'], inplace=True)"
   ]
  },
  {
   "cell_type": "code",
   "execution_count": null,
   "metadata": {},
   "outputs": [],
   "source": [
    "df.prize.mean()"
   ]
  },
  {
   "cell_type": "code",
   "execution_count": null,
   "metadata": {},
   "outputs": [],
   "source": [
    "df.prize.fillna(df.prize.mean(), inplace=True)"
   ]
  },
  {
   "cell_type": "code",
   "execution_count": null,
   "metadata": {},
   "outputs": [],
   "source": [
    "df.dropna(subset=['a'],inplace=True)"
   ]
  },
  {
   "cell_type": "code",
   "execution_count": null,
   "metadata": {},
   "outputs": [],
   "source": [
    "df.isnull().sum()"
   ]
  },
  {
   "cell_type": "code",
   "execution_count": null,
   "metadata": {},
   "outputs": [],
   "source": [
    "df.drop(columns=['acw','bcw','afk','bfk','ar','br'], inplace=True)"
   ]
  },
  {
   "cell_type": "code",
   "execution_count": null,
   "metadata": {},
   "outputs": [],
   "source": [
    "df = pd.get_dummies(df,columns=['type','a','b','map'],prefix=['type','a','b','map'])"
   ]
  },
  {
   "cell_type": "code",
   "execution_count": null,
   "metadata": {},
   "outputs": [],
   "source": [
    "df['a_win'] = df['at'] + df.act > df.bt + df.bct"
   ]
  },
  {
   "cell_type": "code",
   "execution_count": null,
   "metadata": {},
   "outputs": [],
   "source": [
    "test = df.drop(columns=['af5r','bf5r','atpis','actpis','btpis','bctpis','at','act','bt','bct'])"
   ]
  },
  {
   "cell_type": "code",
   "execution_count": null,
   "metadata": {},
   "outputs": [],
   "source": [
    "from sklearn.model_selection import train_test_split #for split the data\n",
    "from sklearn.metrics import accuracy_score  #for accuracy_score\n",
    "from sklearn.model_selection import KFold #for K-fold cross validation\n",
    "from sklearn.model_selection import cross_val_score #score evaluation\n",
    "from sklearn.model_selection import cross_val_predict #prediction\n",
    "from sklearn.metrics import confusion_matrix #for confusion matrix\n",
    "all_features = test.drop(\"a_win\",axis=1)\n",
    "Targeted_feature = test[\"a_win\"]\n",
    "X_train,X_test,y_train,y_test = train_test_split(all_features,Targeted_feature,test_size=0.3,random_state=42)\n",
    "X_train.shape,X_test.shape,y_train.shape,y_test.shape"
   ]
  },
  {
   "cell_type": "code",
   "execution_count": null,
   "metadata": {},
   "outputs": [],
   "source": [
    "# Random Forests\n",
    "from sklearn.ensemble import RandomForestClassifier\n",
    "model = RandomForestClassifier(criterion='gini', n_estimators=700,\n",
    "                             min_samples_split=10,min_samples_leaf=1,\n",
    "                             max_features='auto',oob_score=True,\n",
    "                             random_state=1,n_jobs=-1)\n",
    "model.fit(X_train,y_train)\n",
    "prediction_rm=model.predict(X_test)\n",
    "print('--------------The Accuracy of the model----------------------------')\n",
    "print('The accuracy of the Random Forest Classifier is',round(accuracy_score(prediction_rm,y_test)*100,2))\n",
    "kfold = KFold(n_splits=10, random_state=22) # k=10, split the data into 10 equal parts\n",
    "result_rm=cross_val_score(model,all_features,Targeted_feature,cv=10,scoring='accuracy')\n",
    "print('The cross validated score for Random Forest Classifier is:',round(result_rm.mean()*100,2))\n",
    "y_pred = cross_val_predict(model,all_features,Targeted_feature,cv=10)\n",
    "sns.heatmap(confusion_matrix(Targeted_feature,y_pred),annot=True,fmt='3.0f',cmap=\"summer\")\n",
    "plt.title('Confusion_matrix', y=1.05, size=15)"
   ]
  },
  {
   "cell_type": "code",
   "execution_count": null,
   "metadata": {},
   "outputs": [],
   "source": []
  },
  {
   "cell_type": "code",
   "execution_count": null,
   "metadata": {},
   "outputs": [],
   "source": []
  },
  {
   "cell_type": "code",
   "execution_count": null,
   "metadata": {},
   "outputs": [],
   "source": []
  },
  {
   "cell_type": "code",
   "execution_count": null,
   "metadata": {},
   "outputs": [],
   "source": []
  }
 ],
 "metadata": {
  "kernelspec": {
   "display_name": "vs",
   "language": "python",
   "name": "vs"
  },
  "language_info": {
   "codemirror_mode": {
    "name": "ipython",
    "version": 3
   },
   "file_extension": ".py",
   "mimetype": "text/x-python",
   "name": "python",
   "nbconvert_exporter": "python",
   "pygments_lexer": "ipython3",
   "version": "3.7.2"
  }
 },
 "nbformat": 4,
 "nbformat_minor": 2
}
